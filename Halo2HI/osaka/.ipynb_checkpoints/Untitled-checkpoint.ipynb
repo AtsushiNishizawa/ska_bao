{
 "cells": [
  {
   "cell_type": "code",
   "execution_count": 1,
   "metadata": {
    "collapsed": true
   },
   "outputs": [],
   "source": [
    "import h5py as H\n",
    "import numpy as np\n",
    "import os, sys\n",
    "import glob\n",
    "import matplotlib as mpl\n",
    "mpl.use(\"Agg\")\n",
    "import pylab as plt\n",
    "from sklearn.neighbors import KDTree\n",
    "%matplotlib inline"
   ]
  },
  {
   "cell_type": "code",
   "execution_count": 2,
   "metadata": {
    "collapsed": true
   },
   "outputs": [],
   "source": [
    "snapshot = 2\n",
    "dir = \"/str2/ando/gad/osaka/data_box/L205_N9_wmap0/\"\n",
    "\n",
    "f = dir+\"groups_%03i/sub_%03i.*.hdf5\"%(snapshot, snapshot)\n",
    "sub_list = glob.glob(f)\n",
    "f = dir+\"snapshot_%03i/snapshot_%03i.*.hdf5\"%(snapshot, snapshot)\n",
    "snap_list = glob.glob(f)"
   ]
  },
  {
   "cell_type": "code",
   "execution_count": 10,
   "metadata": {
    "collapsed": false
   },
   "outputs": [
    {
     "name": "stdout",
     "output_type": "stream",
     "text": [
      "reading... /str2/ando/gad/osaka/data_box/L205_N9_wmap0/groups_002/sub_002.0.hdf5\n",
      "Group\n",
      "   GroupContaminationCoun\n",
      "   GroupContaminationMass\n",
      "   GroupFirstSub\n",
      "   GroupLen\n",
      "   GroupMass\n",
      "   GroupNsubs\n",
      "   GroupOffset\n",
      "   GroupPos\n",
      "   Group_M_Crit200\n",
      "   Group_M_Mean200\n",
      "   Group_M_TopHat200\n",
      "   Group_R_Crit200\n",
      "   Group_R_Mean200\n",
      "   Group_R_TopHat200\n",
      "   Group_VelDisp_Crit200\n",
      "   Group_VelDisp_Mean200\n",
      "   Group_VelDisp_TopHat200\n",
      "Header\n",
      "IDs\n",
      "   PID \n",
      "Subhalo\n",
      "   SubhaloCM\n",
      "   SubhaloGrNr\n",
      "   SubhaloHalfmassRad\n",
      "   SubhaloIDMostbound\n",
      "   SubhaloLen\n",
      "   SubhaloMass\n",
      "   SubhaloOffset\n",
      "   SubhaloParent\n",
      "   SubhaloPos\n",
      "   SubhaloSpin\n",
      "   SubhaloVel\n",
      "   SubhaloVelDisp\n",
      "   SubhaloVmax\n",
      "   SubhaloVmaxRad\n",
      "reading... /str2/ando/gad/osaka/data_box/L205_N9_wmap0/groups_002/sub_002.1.hdf5\n",
      "reading... /str2/ando/gad/osaka/data_box/L205_N9_wmap0/groups_002/sub_002.2.hdf5\n",
      "reading... /str2/ando/gad/osaka/data_box/L205_N9_wmap0/groups_002/sub_002.3.hdf5\n",
      "reading... /str2/ando/gad/osaka/data_box/L205_N9_wmap0/groups_002/sub_002.4.hdf5\n",
      "reading... /str2/ando/gad/osaka/data_box/L205_N9_wmap0/groups_002/sub_002.5.hdf5\n",
      "reading... /str2/ando/gad/osaka/data_box/L205_N9_wmap0/groups_002/sub_002.6.hdf5\n",
      "reading... /str2/ando/gad/osaka/data_box/L205_N9_wmap0/groups_002/sub_002.7.hdf5\n",
      "reading... /str2/ando/gad/osaka/data_box/L205_N9_wmap0/groups_002/sub_002.8.hdf5\n",
      "reading... /str2/ando/gad/osaka/data_box/L205_N9_wmap0/groups_002/sub_002.9.hdf5\n",
      "reading... /str2/ando/gad/osaka/data_box/L205_N9_wmap0/groups_002/sub_002.10.hdf5\n",
      "reading... /str2/ando/gad/osaka/data_box/L205_N9_wmap0/groups_002/sub_002.11.hdf5\n",
      "reading... /str2/ando/gad/osaka/data_box/L205_N9_wmap0/groups_002/sub_002.12.hdf5\n",
      "reading... /str2/ando/gad/osaka/data_box/L205_N9_wmap0/groups_002/sub_002.13.hdf5\n",
      "reading... /str2/ando/gad/osaka/data_box/L205_N9_wmap0/groups_002/sub_002.14.hdf5\n",
      "reading... /str2/ando/gad/osaka/data_box/L205_N9_wmap0/groups_002/sub_002.15.hdf5\n",
      "reading... /str2/ando/gad/osaka/data_box/L205_N9_wmap0/groups_002/sub_002.16.hdf5\n",
      "reading... /str2/ando/gad/osaka/data_box/L205_N9_wmap0/groups_002/sub_002.17.hdf5\n",
      "reading... /str2/ando/gad/osaka/data_box/L205_N9_wmap0/groups_002/sub_002.18.hdf5\n",
      "reading... /str2/ando/gad/osaka/data_box/L205_N9_wmap0/groups_002/sub_002.19.hdf5\n",
      "reading... /str2/ando/gad/osaka/data_box/L205_N9_wmap0/groups_002/sub_002.20.hdf5\n",
      "reading... /str2/ando/gad/osaka/data_box/L205_N9_wmap0/groups_002/sub_002.21.hdf5\n",
      "reading... /str2/ando/gad/osaka/data_box/L205_N9_wmap0/groups_002/sub_002.22.hdf5\n",
      "reading... /str2/ando/gad/osaka/data_box/L205_N9_wmap0/groups_002/sub_002.23.hdf5\n",
      "mass_comp_limit= 17.78279410038923\n",
      "(54019,)\n",
      "(54019,)\n",
      "(54019, 3)\n"
     ]
    }
   ],
   "source": [
    "Fwrite = True\n",
    "GM_C200 = None\n",
    "for sub in sub_list:\n",
    "    print (\"reading...\", sub)\n",
    "    d = H.File(sub, \"r\")\n",
    "    #----#\n",
    "    if ( Fwrite ):\n",
    "        for k in d.keys():\n",
    "            print (k)\n",
    "            for item in d[k]:\n",
    "                print (\"  \", item)\n",
    "    Fwrite = False\n",
    "    #----#\n",
    "    if ( GM_C200 is None ):\n",
    "        GM_C200 = np.array(d[\"Group/Group_M_Crit200\"])\n",
    "        GR_C200 = np.array(d[\"Group/Group_R_Crit200\"])\n",
    "        GPos    = np.array(d[\"Group/GroupPos\"])\n",
    "    else:\n",
    "        GM_C200 = np.append(GM_C200, np.array(d[\"Group/Group_M_Crit200\"]))\n",
    "        GR_C200 = np.append(GR_C200, np.array(d[\"Group/Group_R_Crit200\"]))\n",
    "        GPos    = np.append(GPos   , np.array(d[\"Group/GroupPos\"]), axis=0)\n",
    "    \n",
    "\n",
    "mass_comp_limit = 10.**1.25\n",
    "print (\"mass_comp_limit=\", mass_comp_limit)\n",
    "\n",
    "mask = np.isfinite(GM_C200)&(GM_C200>mass_comp_limit)\n",
    "\n",
    "GM_C200 = GM_C200[mask]\n",
    "GR_C200 = GR_C200[mask]\n",
    "GPos    = GPos   [mask,:]\n",
    "\n",
    "print (GM_C200.shape)\n",
    "print (GM_C200.shape)\n",
    "print (GPos.shape)\n",
    "Ngrp = GPos.shape[0]\n",
    "\n",
    "if ( False ):\n",
    "    plt.hist(np.log10(GM_C200), bins=100)\n",
    "    plt.yscale(\"log\")\n",
    "    plt.show()"
   ]
  },
  {
   "cell_type": "code",
   "execution_count": 11,
   "metadata": {
    "collapsed": false
   },
   "outputs": [
    {
     "name": "stdout",
     "output_type": "stream",
     "text": [
      "reading... /str2/ando/gad/osaka/data_box/L205_N9_wmap0/snapshot_002/snapshot_002.0.hdf5\n",
      "Header\n",
      "PartType0\n",
      "   ArtificialViscosity\n",
      "   CELibCalcium\n",
      "   CELibCarbon\n",
      "   CELibHelium\n",
      "   CELibHydrogen\n",
      "   CELibIron\n",
      "   CELibMagnesium\n",
      "   CELibNeon\n",
      "   CELibNickel\n",
      "   CELibNitrogen\n",
      "   CELibOxygen\n",
      "   CELibSilicon\n",
      "   CELibSulfur\n",
      "   Coordinates\n",
      "   DI\n",
      "   DII\n",
      "   Density\n",
      "   ElectronAbundance\n",
      "   EnergyWeightedDensity\n",
      "   H2I\n",
      "   H2II\n",
      "   HDI\n",
      "   HI\n",
      "   HII\n",
      "   HM\n",
      "   HeI\n",
      "   HeII\n",
      "   HeIII\n",
      "   InternalEnergy\n",
      "   Masses\n",
      "   Metallicity\n",
      "   MetallicitySmoothed\n",
      "   ParticleIDs\n",
      "   Pressure\n",
      "   SNIICoolingFlag\n",
      "   SNIIEndtime\n",
      "   SNIIEnergyStorage\n",
      "   SNIINocoolingTime\n",
      "   SNIaCoolingFlag\n",
      "   SNIaEndtime\n",
      "   SNIaEnergyStorage\n",
      "   SNIaNocoolingTime\n",
      "   SmoothingLength\n",
      "   StarFormationRate\n",
      "   Temperature\n",
      "   Velocities\n",
      "   WindVelocity\n",
      "   nStarSpwan\n",
      "PartType1\n",
      "   Coordinates\n",
      "   ParticleIDs\n",
      "   Velocities\n",
      "PartType4\n",
      "   AGBEndTime\n",
      "   AGBExplosionTime\n",
      "   AGBFeedbackFlag\n",
      "   AGBStartTime\n",
      "   CELibCalcium\n",
      "   CELibCarbon\n",
      "   CELibHelium\n",
      "   CELibHydrogen\n",
      "   CELibIron\n",
      "   CELibMagnesium\n",
      "   CELibNeon\n",
      "   CELibNickel\n",
      "   CELibNitrogen\n",
      "   CELibOxygen\n",
      "   CELibSilicon\n",
      "   CELibSulfur\n",
      "   Coordinates\n",
      "   ESFBDepsitedTime\n",
      "   ESFBFeedbackFlag\n",
      "   InitialStellarMass\n",
      "   Masses\n",
      "   Metallicity\n",
      "   MetallicitySmoothed\n",
      "   ParticleIDs\n",
      "   Rshock\n",
      "   SNIIENDTime\n",
      "   SNIIExplosionTime\n",
      "   SNIIFeedbackFlag\n",
      "   SNIIStartTime\n",
      "   SNIITime\n",
      "   SNIaEndTime\n",
      "   SNIaExplosionTime\n",
      "   SNIaFeedbackFlag\n",
      "   SNIaStartTime\n",
      "   SNIaTime\n",
      "   StellarAge\n",
      "   StellarFormationTime\n",
      "   StellarNeighbourNumber\n",
      "   StellarSNIINeighbourNumber\n",
      "   StellarSNIaNeighbourNumber\n",
      "   Velocities\n",
      "Units\n",
      "reading... /str2/ando/gad/osaka/data_box/L205_N9_wmap0/snapshot_002/snapshot_002.1.hdf5\n",
      "reading... /str2/ando/gad/osaka/data_box/L205_N9_wmap0/snapshot_002/snapshot_002.10.hdf5\n",
      "reading... /str2/ando/gad/osaka/data_box/L205_N9_wmap0/snapshot_002/snapshot_002.11.hdf5\n",
      "reading... /str2/ando/gad/osaka/data_box/L205_N9_wmap0/snapshot_002/snapshot_002.12.hdf5\n",
      "reading... /str2/ando/gad/osaka/data_box/L205_N9_wmap0/snapshot_002/snapshot_002.13.hdf5\n",
      "reading... /str2/ando/gad/osaka/data_box/L205_N9_wmap0/snapshot_002/snapshot_002.14.hdf5\n",
      "reading... /str2/ando/gad/osaka/data_box/L205_N9_wmap0/snapshot_002/snapshot_002.15.hdf5\n",
      "reading... /str2/ando/gad/osaka/data_box/L205_N9_wmap0/snapshot_002/snapshot_002.16.hdf5\n",
      "reading... /str2/ando/gad/osaka/data_box/L205_N9_wmap0/snapshot_002/snapshot_002.17.hdf5\n",
      "reading... /str2/ando/gad/osaka/data_box/L205_N9_wmap0/snapshot_002/snapshot_002.18.hdf5\n",
      "reading... /str2/ando/gad/osaka/data_box/L205_N9_wmap0/snapshot_002/snapshot_002.19.hdf5\n",
      "reading... /str2/ando/gad/osaka/data_box/L205_N9_wmap0/snapshot_002/snapshot_002.2.hdf5\n",
      "reading... /str2/ando/gad/osaka/data_box/L205_N9_wmap0/snapshot_002/snapshot_002.20.hdf5\n",
      "reading... /str2/ando/gad/osaka/data_box/L205_N9_wmap0/snapshot_002/snapshot_002.21.hdf5\n",
      "reading... /str2/ando/gad/osaka/data_box/L205_N9_wmap0/snapshot_002/snapshot_002.22.hdf5\n",
      "reading... /str2/ando/gad/osaka/data_box/L205_N9_wmap0/snapshot_002/snapshot_002.23.hdf5\n",
      "reading... /str2/ando/gad/osaka/data_box/L205_N9_wmap0/snapshot_002/snapshot_002.24.hdf5\n",
      "reading... /str2/ando/gad/osaka/data_box/L205_N9_wmap0/snapshot_002/snapshot_002.25.hdf5\n",
      "reading... /str2/ando/gad/osaka/data_box/L205_N9_wmap0/snapshot_002/snapshot_002.26.hdf5\n",
      "reading... /str2/ando/gad/osaka/data_box/L205_N9_wmap0/snapshot_002/snapshot_002.27.hdf5\n",
      "reading... /str2/ando/gad/osaka/data_box/L205_N9_wmap0/snapshot_002/snapshot_002.28.hdf5\n",
      "reading... /str2/ando/gad/osaka/data_box/L205_N9_wmap0/snapshot_002/snapshot_002.29.hdf5\n",
      "reading... /str2/ando/gad/osaka/data_box/L205_N9_wmap0/snapshot_002/snapshot_002.3.hdf5\n",
      "reading... /str2/ando/gad/osaka/data_box/L205_N9_wmap0/snapshot_002/snapshot_002.30.hdf5\n",
      "reading... /str2/ando/gad/osaka/data_box/L205_N9_wmap0/snapshot_002/snapshot_002.31.hdf5\n",
      "reading... /str2/ando/gad/osaka/data_box/L205_N9_wmap0/snapshot_002/snapshot_002.4.hdf5\n",
      "reading... /str2/ando/gad/osaka/data_box/L205_N9_wmap0/snapshot_002/snapshot_002.5.hdf5\n",
      "reading... /str2/ando/gad/osaka/data_box/L205_N9_wmap0/snapshot_002/snapshot_002.6.hdf5\n",
      "reading... /str2/ando/gad/osaka/data_box/L205_N9_wmap0/snapshot_002/snapshot_002.7.hdf5\n",
      "reading... /str2/ando/gad/osaka/data_box/L205_N9_wmap0/snapshot_002/snapshot_002.8.hdf5\n",
      "reading... /str2/ando/gad/osaka/data_box/L205_N9_wmap0/snapshot_002/snapshot_002.9.hdf5\n",
      "(134214880, 3)\n",
      "(54019, 3)\n"
     ]
    }
   ],
   "source": [
    "# read snapshot particles\n",
    "#\n",
    "ic = 0\n",
    "GasPos = None\n",
    "Fwrite = True\n",
    "for snap in snap_list:\n",
    "    d = H.File(snap, \"r\")\n",
    "    print (\"reading...\", snap)\n",
    "    #ic += 1\n",
    "    #if ( ic > 2 ):\n",
    "    #    continue\n",
    "\n",
    "    #----#\n",
    "    if ( Fwrite ):\n",
    "        for k in d.keys():\n",
    "            print (k)\n",
    "            for item in d[k]:\n",
    "                print (\"  \", item)\n",
    "    Fwrite = False\n",
    "    #----#\n",
    "    if ( GasPos is None ):\n",
    "        GasPos  = np.array(d[\"PartType0/Coordinates\"])\n",
    "        HIfrac  = np.array(d[\"PartType0/HI\"]         )\n",
    "        GasMass = np.array(d[\"PartType0/Masses\"]     )\n",
    "    else:\n",
    "        GasPos  = np.append(GasPos,  np.array(d[\"PartType0/Coordinates\"]), axis=0)\n",
    "        HIfrac  = np.append(HIfrac,  np.array(d[\"PartType0/HI\"]         )        )\n",
    "        GasMass = np.append(GasMass, np.array(d[\"PartType0/Masses\"]     )        )\n",
    "\n",
    "HIMass = HIfrac*GasMass\n",
    "\n",
    "#\n",
    "GasPos0 = GasPos[::1,:]\n",
    "HIMass0 = HIMass[::1]\n",
    "#\n",
    "\n",
    "print (GasPos0.shape)\n",
    "print (GPos.shape)"
   ]
  },
  {
   "cell_type": "code",
   "execution_count": null,
   "metadata": {
    "collapsed": true
   },
   "outputs": [],
   "source": [
    "tree_T = KDTree(GasPos0, leaf_size=100, metric=\"euclidean\")\n",
    "ind, dist = tree_T.query_radius(GPos, r=GR_C200, return_distance=True, count_only=False)"
   ]
  },
  {
   "cell_type": "code",
   "execution_count": 6,
   "metadata": {
    "collapsed": false
   },
   "outputs": [
    {
     "data": {
      "image/png": "[encoded data removed]",
      "text/plain": [
       "<Figure size 432x288 with 1 Axes>"
      ]
     },
     "metadata": {},
     "output_type": "display_data"
    }
   ],
   "source": [
    "HIMass_indiv = np.zeros(Ngrp)\n",
    "#fig = plt.figure()\n",
    "for i in range(ind.shape[0]):\n",
    "    #if ( ind[i].shape[0] >1 ):\n",
    "    HIMass_indiv[i] = np.sum(HIMass[ind[i]])\n",
    "#        plt.plot(GasPos[ind[i],0], GasPos[ind[i],1], \"C0,\")\n",
    "#fig.savefig(\"halo2HI.png\")\n",
    "#plt.show()"
   ]
  },
  {
   "cell_type": "code",
   "execution_count": 9,
   "metadata": {
    "collapsed": false
   },
   "outputs": [
    {
     "data": {
      "text/plain": [
       "<Figure size 432x288 with 0 Axes>"
      ]
     },
     "execution_count": 9,
     "metadata": {},
     "output_type": "execute_result"
    },
    {
     "data": {
      "image/png": "[encoded data removed]",
      "text/plain": [
       "<Figure size 432x288 with 1 Axes>"
      ]
     },
     "metadata": {},
     "output_type": "display_data"
    },
    {
     "data": {
      "text/plain": [
       "<Figure size 432x288 with 0 Axes>"
      ]
     },
     "metadata": {},
     "output_type": "display_data"
    }
   ],
   "source": [
    "fig = plt.figure()\n",
    "plt.loglog(GM_C200, HIMass_indiv, \"C0,\")\n",
    "plt.figure()\n",
    "#fig.savefig(\"halo2HI_2.png\")"
   ]
  },
  {
   "cell_type": "code",
   "execution_count": null,
   "metadata": {
    "collapsed": true
   },
   "outputs": [],
   "source": []
  }
 ],
 "metadata": {
  "kernelspec": {
   "display_name": "nbodykit-env",
   "language": "python",
   "name": "nbodykit-env"
  },
  "language_info": {
   "codemirror_mode": {
    "name": "ipython",
    "version": 3
   },
   "file_extension": ".py",
   "mimetype": "text/x-python",
   "name": "python",
   "nbconvert_exporter": "python",
   "pygments_lexer": "ipython3",
   "version": "3.6.8"
  }
 },
 "nbformat": 4,
 "nbformat_minor": 0
}
